{
 "cells": [
  {
   "cell_type": "code",
   "execution_count": 2,
   "id": "65441188-59ea-41bd-a28c-e5028260ed73",
   "metadata": {},
   "outputs": [],
   "source": [
    "import numpy as np\n",
    "import matplotlib.pyplot as plt\n",
    "import statistics as stat\n",
    "import random"
   ]
  },
  {
   "cell_type": "code",
   "execution_count": 3,
   "id": "5ba55f0c-ffba-421c-834b-b8df15818c75",
   "metadata": {},
   "outputs": [],
   "source": [
    "theta = 3\n",
    "n = 100\n",
    "\n",
    "def get_sample(size, t):\n",
    "    return [(1 - x)**(1 / (1-t)) for x in np.random.uniform(0,1,size)]\n",
    "\n",
    "sample = get_sample(n, theta)\n"
   ]
  },
  {
   "cell_type": "code",
   "execution_count": 4,
   "id": "5c04f670-eee7-4f37-a185-37f9e53ec046",
   "metadata": {},
   "outputs": [
    {
     "data": {
      "image/png": "[encoded data removed]",
      "text/plain": [
       "<Figure size 640x480 with 1 Axes>"
      ]
     },
     "metadata": {},
     "output_type": "display_data"
    }
   ],
   "source": [
    "plt.plot(sample)\n",
    "plt.grid()"
   ]
  },
  {
   "cell_type": "code",
   "execution_count": 5,
   "id": "84c2d783-19f8-4202-a7c9-f4cdbc8c7363",
   "metadata": {},
   "outputs": [
    {
     "name": "stdout",
     "output_type": "stream",
     "text": [
      "estimation of theta by omp is 2.754790243943533\n"
     ]
    }
   ],
   "source": [
    "theta_est = n/np.sum(np.log(sample))+1\n",
    "print(f'estimation of theta by omp is {theta_est}')"
   ]
  },
  {
   "cell_type": "code",
   "execution_count": 6,
   "id": "3fe28ca1-f2a6-4d24-8c88-b534d427c829",
   "metadata": {},
   "outputs": [
    {
     "name": "stdout",
     "output_type": "stream",
     "text": [
      " доверительный интервал для медианы: медиана между 1.36947 и 1.59931\n",
      " real median is 1.50062\n",
      " theta between 2.47612 and 3.20452\n"
     ]
    }
   ],
   "source": [
    "a = 2**(1/(theta_est-1)) - (1.96*np.log(2)*2**(1/(theta_est-1))) / (n**0.5*(theta_est-1))\n",
    "b = 2**(1/(theta_est-1)) + (1.96*np.log(2)*2**(1/(theta_est-1))) / (n**0.5*(theta_est-1))\n",
    "print(f' доверительный интервал для медианы: медиана между {np.round(a,5)} и {np.round(b,5)}')\n",
    "print(f' real median is {np.round(stat.median(sample),5)}')\n",
    "print(f' theta between {np.round(np.log(2)/np.log(b) +1, 5)} and {np.round(np.log(2)/np.log(a)+1,5)}')"
   ]
  },
  {
   "cell_type": "markdown",
   "id": "6b6a9f1e-50bf-4657-9e3a-2f651aaaa1ca",
   "metadata": {},
   "source": [
    "# асимптотический доверительный интервал омп"
   ]
  },
  {
   "cell_type": "code",
   "execution_count": 7,
   "id": "9ec2bdb5-1e83-40b0-bd61-3d7984b71c14",
   "metadata": {},
   "outputs": [
    {
     "name": "stdout",
     "output_type": "stream",
     "text": [
      "theta between 2.4109 and 3.0987 with 95% probability, real val is 3\n"
     ]
    }
   ],
   "source": [
    "omp_b =  (1.96*(theta_est-1)/n**0.5)+theta_est\n",
    "omp_a = - (1.96*(theta_est-1)/n**0.5)+theta_est\n",
    "print(f'theta between {np.round(omp_a, 4)} and {np.round(omp_b, 4)} with 95% probability, real val is {theta}')"
   ]
  },
  {
   "cell_type": "markdown",
   "id": "277369e4-2c53-444d-8709-6156a382a31e",
   "metadata": {
    "tags": []
   },
   "source": [
    "# параметрический бутстрап\n"
   ]
  },
  {
   "cell_type": "code",
   "execution_count": 19,
   "id": "3b8b349a-56f3-42ea-8cbd-680e18dac94d",
   "metadata": {},
   "outputs": [
    {
     "name": "stdout",
     "output_type": "stream",
     "text": [
      "theta between 2.3504 and 3.0592 with 95% probability, real val is 3, iter = 50000\n",
      "CPU times: user 3.67 s, sys: 92 ms, total: 3.77 s\n",
      "Wall time: 3.68 s\n"
     ]
    }
   ],
   "source": [
    "%%time\n",
    "N = 50000\n",
    "\n",
    "theta_est = n/np.sum(np.log(sample))+1\n",
    "size = len(sample)\n",
    "\n",
    "p_deltas = []\n",
    "for i in range(N):\n",
    "    cur_sample = get_sample(size, theta_est)\n",
    "    cur_theta_est = n/np.sum(np.log(cur_sample))+1\n",
    "    p_deltas.append(cur_theta_est - theta_est)\n",
    "    \n",
    "p_deltas.sort()\n",
    "p_delta_025 = p_deltas[int(0.025*len(p_deltas))]\n",
    "p_delta_975 = p_deltas[int(0.975*len(p_deltas))]\n",
    "\n",
    "pbs_b = -1*(p_delta_025-theta_est)\n",
    "pbs_a = -1*(p_delta_975-theta_est)\n",
    "\n",
    "print(f'theta between {np.round(pbs_a, 4)} and {np.round(pbs_b, 4)} with 95% probability, real val is {theta}, iter = {N}')"
   ]
  },
  {
   "cell_type": "markdown",
   "id": "2d7c1020-26d2-4fe8-b63a-7c0461550f04",
   "metadata": {},
   "source": [
    "# непараметрический"
   ]
  },
  {
   "cell_type": "code",
   "execution_count": 20,
   "id": "71aa2443-a1e1-40d1-b650-0ba5f188d61d",
   "metadata": {},
   "outputs": [
    {
     "name": "stdout",
     "output_type": "stream",
     "text": [
      "theta between 2.3787 and 3.0396 with 95% probability, real val is 3\n"
     ]
    }
   ],
   "source": [
    "theta_est = n/np.sum(np.log(sample))+1\n",
    "N = 1000\n",
    "\n",
    "size = len(sample)\n",
    "\n",
    "sample_bs = sample.copy()\n",
    "sample_bs = np.repeat(sample_bs, 20)\n",
    "\n",
    "deltas = []\n",
    "for i in range(N):\n",
    "    random.shuffle(sample_bs)\n",
    "    cur_theta_est = n/np.sum(np.log(sample_bs[:size]))+1\n",
    "    deltas.append(cur_theta_est - theta_est)\n",
    "    \n",
    "deltas.sort()\n",
    "delta_025 = deltas[int(0.025*len(deltas))]\n",
    "delta_975 = deltas[int(0.975*len(deltas))]\n",
    "\n",
    "bs_b = -1*(delta_025-theta_est)\n",
    "bs_a = -1*(delta_975-theta_est)\n",
    "\n",
    "print(f'theta between {np.round(bs_a, 4)} and {np.round(bs_b, 4)} with 95% probability, real val is {theta}')"
   ]
  },
  {
   "cell_type": "markdown",
   "id": "037143be-b381-44da-89ae-f4e76e2aceed",
   "metadata": {},
   "source": [
    "# Байес "
   ]
  },
  {
   "cell_type": "code",
   "execution_count": 21,
   "id": "8276c46a-7382-47f8-9b57-9a61746b7984",
   "metadata": {},
   "outputs": [],
   "source": [
    "def func(x, n, prod):\n",
    "    return np.exp(1-x)*(x-1)**n  / ((prod)**x)\n",
    "\n",
    "def integrate(prod, c = None, prob = 0.025):\n",
    "    integral = 0\n",
    "    low = 1\n",
    "    high = 10e2\n",
    "    step = 10e-4\n",
    "    \n",
    "    idxs = np.arange(low, high, step)\n",
    "    \n",
    "    if c is not None:\n",
    "         for i in range(len(idxs)-1):\n",
    "            try:\n",
    "                part = step * 0.5* (func(idxs[i], n, prod)+func(idxs[i+1], n, prod)) * c\n",
    "                integral += part\n",
    "            except:\n",
    "                return idxs[i]\n",
    "\n",
    "            if integral>=prob:\n",
    "                return idxs[i]\n",
    "        \n",
    "    \n",
    "    else:\n",
    "        for i in range(len(idxs)-1):\n",
    "            try:\n",
    "                part = step * 0.5* (func(idxs[i], n, prod)+func(idxs[i+1], n, prod)) \n",
    "                integral += part\n",
    "            except:\n",
    "                return integral\n",
    "\n",
    "        return integral"
   ]
  },
  {
   "cell_type": "code",
   "execution_count": 22,
   "id": "9b99ad4d-f4ef-449e-9043-29e74dc4a125",
   "metadata": {},
   "outputs": [
    {
     "name": "stderr",
     "output_type": "stream",
     "text": [
      "/var/folders/xq/7lrzzzm12635tbsgf5tdz5dh0000gn/T/ipykernel_9609/749957245.py:2: RuntimeWarning: overflow encountered in double_scalars\n",
      "  return np.exp(1-x)*(x-1)**n  / ((prod)**x)\n"
     ]
    }
   ],
   "source": [
    "prod = np.product(sample)\n",
    "integ = integrate(prod)\n",
    "\n",
    "c = 1/integ"
   ]
  },
  {
   "cell_type": "code",
   "execution_count": 23,
   "id": "cf030159-2142-4357-920b-e4fe4d67123f",
   "metadata": {},
   "outputs": [
    {
     "name": "stdout",
     "output_type": "stream",
     "text": [
      "theta between 2.418 and 3.097 with 95% probability, real val is 3\n"
     ]
    }
   ],
   "source": [
    "# найду границы для интеграла\n",
    "by_a = integrate(prod, c, 0.025)\n",
    "by_b = integrate(prod, c, 0.975)\n",
    "print(f'theta between {np.round(by_a, 4)} and {np.round(by_b, 4)} with 95% probability, real val is {theta}')"
   ]
  },
  {
   "cell_type": "code",
   "execution_count": 32,
   "id": "152c8c9a-89c7-4587-ad69-4f00478e89e9",
   "metadata": {},
   "outputs": [
    {
     "data": {
      "text/plain": [
       "<matplotlib.legend.Legend at 0x7f95305187c0>"
      ]
     },
     "execution_count": 32,
     "metadata": {},
     "output_type": "execute_result"
    },
    {
     "data": {
      "image/png": "[encoded data removed]",
      "text/plain": [
       "<Figure size 800x700 with 1 Axes>"
      ]
     },
     "metadata": {},
     "output_type": "display_data"
    }
   ],
   "source": [
    "fig, ax = plt.subplots(figsize=(8,7))\n",
    "\n",
    "ax.plot([bs_a, bs_b], [1,1], label = 'bootstrap')\n",
    "ax.plot([pbs_a, pbs_b], [3,3], label = ' param bootstrap')\n",
    "ax.plot([omp_a, omp_b], [2,2], label = 'omm ')\n",
    "ax.plot([by_a, by_b], [0,0], label = 'bayes')\n",
    "ax.plot([theta, theta], [0, 3], label = 'real theta')\n",
    "\n",
    "ax.grid(color = 'lightgray')\n",
    "ax.set_title('Compare intervals')    \n",
    "\n",
    "ax.set_xlabel('theta')\n",
    "\n",
    "ax.legend(loc = 'best')"
   ]
  },
  {
   "cell_type": "code",
   "execution_count": null,
   "id": "6b8bf19e-0cfb-44b4-a291-33b3676d3bdc",
   "metadata": {},
   "outputs": [],
   "source": []
  }
 ],
 "metadata": {
  "kernelspec": {
   "display_name": "Python 3 (ipykernel)",
   "language": "python",
   "name": "python3"
  },
  "language_info": {
   "codemirror_mode": {
    "name": "ipython",
    "version": 3
   },
   "file_extension": ".py",
   "mimetype": "text/x-python",
   "name": "python",
   "nbconvert_exporter": "python",
   "pygments_lexer": "ipython3",
   "version": "3.9.13"
  }
 },
 "nbformat": 4,
 "nbformat_minor": 5
}
