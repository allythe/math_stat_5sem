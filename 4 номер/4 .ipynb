{
 "cells": [
  {
   "cell_type": "code",
   "execution_count": 102,
   "id": "3335bf7d",
   "metadata": {},
   "outputs": [],
   "source": [
    "import matplotlib.pyplot as plt\n",
    "import random\n",
    "import numpy as np"
   ]
  },
  {
   "cell_type": "code",
   "execution_count": 103,
   "id": "3b8235cd",
   "metadata": {},
   "outputs": [],
   "source": [
    "theta = 20\n",
    "n = 100\n",
    "\n",
    "sample = np.random.uniform(theta, theta*2, n)"
   ]
  },
  {
   "cell_type": "markdown",
   "id": "6ce7c614",
   "metadata": {},
   "source": [
    "# доверительный интервал ОММ"
   ]
  },
  {
   "cell_type": "code",
   "execution_count": 104,
   "id": "af424f76",
   "metadata": {},
   "outputs": [
    {
     "name": "stdout",
     "output_type": "stream",
     "text": [
      "theta between 19.9735 and 21.4796 with 95% probability, real val is 20\n"
     ]
    }
   ],
   "source": [
    "first_moment = np.mean(sample)\n",
    "second_moment = np.mean(sample**2)\n",
    "theta_est = first_moment*2/3\n",
    "sigma = (4/9*(second_moment - first_moment**2))**0.5\n",
    "omm_b = -1*(-1.96/ n**0.5  * sigma - theta_est)\n",
    "omm_a = -1*(1.96/ n**0.5  * sigma - theta_est)\n",
    "print(f'theta between {np.round(omm_a, 4)} and {np.round(omm_b, 4)} with 95% probability, real val is {theta}')"
   ]
  },
  {
   "cell_type": "markdown",
   "id": "b2d0d62a",
   "metadata": {},
   "source": [
    "# точный доверительный интервал "
   ]
  },
  {
   "cell_type": "code",
   "execution_count": 105,
   "id": "c65b37a6",
   "metadata": {},
   "outputs": [
    {
     "name": "stdout",
     "output_type": "stream",
     "text": [
      "theta between 19.935 and 20.5277 with 95% probability, real val is 20\n"
     ]
    }
   ],
   "source": [
    "pr_b = np.max(sample)/2/0.971\n",
    "pr_a = np.max(sample)/2/0.99987\n",
    "print(f'theta between {np.round(pr_a, 4)} and {np.round(pr_b, 4)} with 95% probability, real val is {theta}')"
   ]
  },
  {
   "cell_type": "markdown",
   "id": "5c0892dd",
   "metadata": {},
   "source": [
    "# бутстрап"
   ]
  },
  {
   "cell_type": "code",
   "execution_count": 106,
   "id": "923fa6ae",
   "metadata": {},
   "outputs": [],
   "source": [
    "theta_est = first_moment*2/3\n",
    "N = 100\n",
    "\n",
    "size = len(sample)\n",
    "\n",
    "sample_bs = sample.copy()\n",
    "sample_bs = np.repeat(sample_bs, 20)\n",
    "\n",
    "deltas = []\n",
    "for i in range(N):\n",
    "    random.shuffle(sample_bs)\n",
    "    deltas.append(np.mean(sample_bs[:size])*2/3 - theta_est)"
   ]
  },
  {
   "cell_type": "code",
   "execution_count": 107,
   "id": "ae6d34d8",
   "metadata": {},
   "outputs": [
    {
     "name": "stdout",
     "output_type": "stream",
     "text": [
      "theta between 19.9099 and 21.683 with 95% probability, real val is 20\n"
     ]
    }
   ],
   "source": [
    "deltas.sort()\n",
    "delta_025 = deltas[int(0.025*len(deltas))]\n",
    "delta_975 = deltas[int(0.975*len(deltas))]\n",
    "\n",
    "bs_b = -1*(delta_025-theta_est)\n",
    "bs_a = -1*(delta_975-theta_est)\n",
    "\n",
    "print(f'theta between {np.round(bs_a, 4)} and {np.round(bs_b, 4)} with 95% probability, real val is {theta}')"
   ]
  },
  {
   "cell_type": "code",
   "execution_count": null,
   "id": "bb66d46e",
   "metadata": {},
   "outputs": [],
   "source": [
    "fig, ax = plt.subplots(figsize=(7,3))\n",
    "\n",
    "ax.plot([bs_a, bs_b], [1,1], label = 'bootstrap interval')\n",
    "ax.plot([pr_a, pr_b], [0,0], label = 'precise interval')\n",
    "ax.plot([omm_a, omm_b], [2,2], label = 'omm interval')\n",
    "ax.plot([theta, theta], [0, 2], label = 'real theta')\n",
    "\n",
    "ax.grid(color = 'lightgray')\n",
    "ax.set_title('Compare intervals')    \n",
    "\n",
    "ax.set_xlabel('theta')\n",
    "\n",
    "ax.legend(loc = 'best')"
   ]
  },
  {
   "cell_type": "code",
   "execution_count": null,
   "id": "c7a94e62",
   "metadata": {},
   "outputs": [],
   "source": []
  }
 ],
 "metadata": {
  "kernelspec": {
   "display_name": "Python 3 (ipykernel)",
   "language": "python",
   "name": "python3"
  },
  "language_info": {
   "codemirror_mode": {
    "name": "ipython",
    "version": 3
   },
   "file_extension": ".py",
   "mimetype": "text/x-python",
   "name": "python",
   "nbconvert_exporter": "python",
   "pygments_lexer": "ipython3",
   "version": "3.9.13"
  }
 },
 "nbformat": 4,
 "nbformat_minor": 5
}
