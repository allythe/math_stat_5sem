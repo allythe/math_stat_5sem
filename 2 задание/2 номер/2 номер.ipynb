{
 "cells": [
  {
   "cell_type": "code",
   "execution_count": 9,
   "id": "e2fccdda-ca9d-4c8c-84ba-106c7d7a1569",
   "metadata": {},
   "outputs": [],
   "source": [
    "import numpy as np\n",
    "import matplotlib.pyplot as plt\n",
    "import pandas as pd\n",
    "from scipy.stats import t, f, norm\n",
    "\n",
    "from sklearn.linear_model import LinearRegression\n",
    "import warnings\n",
    "warnings.simplefilter('ignore')"
   ]
  },
  {
   "cell_type": "markdown",
   "id": "4e7c01b2-ecad-4184-aad4-566535ced5d1",
   "metadata": {},
   "source": [
    "#### a) проверить значимость регрессии"
   ]
  },
  {
   "cell_type": "code",
   "execution_count": 17,
   "id": "6c2baa48-a6e1-4651-9689-58b1f421580f",
   "metadata": {},
   "outputs": [
    {
     "name": "stdout",
     "output_type": "stream",
     "text": [
      " betas =\n",
      "0    84.000000\n",
      "1    85.500000\n",
      "2    87.818182\n",
      "3    90.000000\n",
      "4    91.000000\n",
      "dtype: float64\n"
     ]
    }
   ],
   "source": [
    "df = pd.DataFrame({\"ig\":[83,85,84,85,85,86,86,87,86,87,87,87,88,88,88,88,88,89,90,89,90,90,91,90,92],\n",
    "                   \"age\":[1,1,2,2,2,2,2,2,3,3,3,3,3,3,3,3,3,3,3,4,4,4,4,5,5]})\n",
    "df.head()\n",
    "\n",
    "x = pd.get_dummies(df['age'])\n",
    "y = df[\"ig\"]\n",
    "\n",
    "F = x.T @ x\n",
    "F_inv = np.linalg.inv(F)\n",
    "coef = F_inv @ x.T @ y\n",
    "\n",
    "print(f' betas =\\n{coef}')"
   ]
  },
  {
   "cell_type": "markdown",
   "id": "f513d287-44da-4d7e-9d99-c44563d5efc0",
   "metadata": {},
   "source": [
    "проверим значимость регрессии"
   ]
  },
  {
   "cell_type": "code",
   "execution_count": 30,
   "id": "a4d2af33-5947-4d55-b122-dd34f9aaee0b",
   "metadata": {},
   "outputs": [
    {
     "name": "stdout",
     "output_type": "stream",
     "text": [
      " p_value = 0.0002 < 0.05 -> опровергаем гипотезу о незначимости регрессии \n"
     ]
    }
   ],
   "source": [
    "TSS = np.sum((y - y.mean())**2)\n",
    "err = y - x@np.ravel(coef)\n",
    "RSS = err.T @ err\n",
    "R2 = (TSS- RSS)/TSS\n",
    "N, p = x.shape\n",
    "delta = R2**2/(1-R2**2)*(N - p)/(p-1)\n",
    "p_val = 1 - f.cdf(delta, p-1, N-p)\n",
    "print(f' p_value = {np.round(p_val, 4)} < 0.05 -> опровергаем гипотезу о незначимости регрессии ')"
   ]
  },
  {
   "cell_type": "markdown",
   "id": "4c0f53d3-bc28-4b94-8362-321eb792b2e9",
   "metadata": {},
   "source": [
    "#### b) провести попарное сравнение средних в рамках регрессионной модели"
   ]
  },
  {
   "cell_type": "code",
   "execution_count": 37,
   "id": "6f7a7ed7-b061-4e0d-bb28-a0f7315d12c6",
   "metadata": {},
   "outputs": [
    {
     "name": "stdout",
     "output_type": "stream",
     "text": [
      "не отвергаем гипотезу однородности между 1 и 2 группой\n",
      "отвергаем гипотезу однородности между 1 и 3 группой\n",
      "отвергаем гипотезу однородности между 1 и 4 группой\n",
      "отвергаем гипотезу однородности между 1 и 5 группой\n",
      "отвергаем гипотезу однородности между 2 и 3 группой\n",
      "отвергаем гипотезу однородности между 2 и 4 группой\n",
      "отвергаем гипотезу однородности между 2 и 5 группой\n",
      "отвергаем гипотезу однородности между 3 и 4 группой\n",
      "отвергаем гипотезу однородности между 3 и 5 группой\n",
      "не отвергаем гипотезу однородности между 4 и 5 группой\n"
     ]
    }
   ],
   "source": [
    "for i in range(p):\n",
    "    for j in range(i+1, p):\n",
    "        delta_tmp = (N-p)**0.5*(coef[i] - coef[j])/(RSS*(F_inv[i,i]+F_inv[j,j]))**0.5\n",
    "        p_val_tmp = 2*(1-t.cdf(abs(delta_tmp), N-p))\n",
    "        if p_val_tmp < 0.05:\n",
    "            print(f'отвергаем гипотезу однородности между {i+1} и {j+1} группой')\n",
    "        else:\n",
    "            print(f'не отвергаем гипотезу однородности между {i+1} и {j+1} группой')\n"
   ]
  }
 ],
 "metadata": {
  "kernelspec": {
   "display_name": "Python 3 (ipykernel)",
   "language": "python",
   "name": "python3"
  },
  "language_info": {
   "codemirror_mode": {
    "name": "ipython",
    "version": 3
   },
   "file_extension": ".py",
   "mimetype": "text/x-python",
   "name": "python",
   "nbconvert_exporter": "python",
   "pygments_lexer": "ipython3",
   "version": "3.9.13"
  }
 },
 "nbformat": 4,
 "nbformat_minor": 5
}
